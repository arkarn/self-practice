{
 "cells": [
  {
   "cell_type": "code",
   "execution_count": 21,
   "metadata": {},
   "outputs": [
    {
     "name": "stdout",
     "output_type": "stream",
     "text": [
      "trial: 0\tsucc_fail: [[0, 0], [0, 0], [1, 0]]\n",
      "trial: 10\tsucc_fail: [[0, 2], [0, 1], [5, 3]]\n",
      "trial: 20\tsucc_fail: [[0, 3], [2, 1], [8, 7]]\n",
      "trial: 30\tsucc_fail: [[0, 3], [7, 4], [9, 8]]\n",
      "trial: 40\tsucc_fail: [[0, 3], [13, 5], [11, 9]]\n",
      "trial: 50\tsucc_fail: [[0, 3], [21, 7], [11, 9]]\n",
      "trial: 60\tsucc_fail: [[0, 3], [27, 11], [11, 9]]\n",
      "trial: 70\tsucc_fail: [[0, 3], [34, 13], [11, 10]]\n",
      "trial: 80\tsucc_fail: [[0, 3], [41, 15], [12, 10]]\n",
      "trial: 90\tsucc_fail: [[0, 3], [51, 15], [12, 10]]\n",
      "trial: 100\tsucc_fail: [[0, 3], [57, 18], [12, 11]]\n"
     ]
    },
    {
     "data": {
      "text/plain": [
       "'\\nOutput:\\ntrial: 0\\tsucc_fail: [[0, 1], [0, 0], [0, 0]]\\ntrial: 10\\tsucc_fail: [[0, 1], [8, 2], [0, 0]]\\ntrial: 20\\tsucc_fail: [[0, 1], [12, 4], [2, 2]]\\ntrial: 30\\tsucc_fail: [[0, 1], [17, 7], [2, 4]]\\ntrial: 40\\tsucc_fail: [[0, 1], [25, 9], [2, 4]]\\ntrial: 50\\tsucc_fail: [[0, 2], [33, 10], [2, 4]]\\ntrial: 60\\tsucc_fail: [[0, 2], [41, 12], [2, 4]]\\ntrial: 70\\tsucc_fail: [[0, 2], [47, 16], [2, 4]]\\ntrial: 80\\tsucc_fail: [[0, 2], [54, 19], [2, 4]]\\ntrial: 90\\tsucc_fail: [[0, 2], [60, 23], [2, 4]]\\ntrial: 100\\tsucc_fail: [[0, 2], [66, 26], [2, 5]]\\n'"
      ]
     },
     "execution_count": 21,
     "metadata": {},
     "output_type": "execute_result"
    }
   ],
   "source": [
    "import numpy as np\n",
    "import matplotlib.pyplot as plt\n",
    "\n",
    "# True payout % (probabilities of success) of each arm\n",
    "actual_prob = [0.1, 0.7, 0.5]\n",
    "\n",
    "# Counts of success and failure of each arm\n",
    "succ_fail = [[0,0], [0,0], [0,0]]  # each sub-list contains [num of success, num of failure]\n",
    "\n",
    "for trial in range(101):\n",
    "    # Sample a data point (thompson sampling) from all arms' Beta distrib\n",
    "    samples = [np.random.beta(s+1, f+1) for s, f in succ_fail]\n",
    "    \n",
    "    # Pick the arm with highest sampled estimate\n",
    "    best_arm = np.argmax(samples)\n",
    "    \n",
    "    # Play with best arm\n",
    "    # since each arm is modelled as bernoulli variable, to sample from bernoulli distribution is same as \n",
    "    # sampling a uniform distrib variable & comparing with p (payout), if its less than p, then Success else Failure\n",
    "    if np.random.uniform() < actual_prob[best_arm]:  \n",
    "        # if we win with this arm\n",
    "        succ_fail[best_arm][0] += 1 \n",
    "    else:\n",
    "        # if we lose with this arm\n",
    "        succ_fail[best_arm][1] += 1\n",
    "\n",
    "    # logging\n",
    "    if trial % 10 == 0: \n",
    "        print(f\"trial: {trial}\\tsucc_fail: {succ_fail}\")\n",
    "\n",
    "\n",
    "\"\"\"\n",
    "Output:\n",
    "trial: 0\tsucc_fail: [[0, 1], [0, 0], [0, 0]]\n",
    "trial: 10\tsucc_fail: [[0, 1], [8, 2], [0, 0]]\n",
    "trial: 20\tsucc_fail: [[0, 1], [12, 4], [2, 2]]\n",
    "trial: 30\tsucc_fail: [[0, 1], [17, 7], [2, 4]]\n",
    "trial: 40\tsucc_fail: [[0, 1], [25, 9], [2, 4]]\n",
    "trial: 50\tsucc_fail: [[0, 2], [33, 10], [2, 4]]\n",
    "trial: 60\tsucc_fail: [[0, 2], [41, 12], [2, 4]]\n",
    "trial: 70\tsucc_fail: [[0, 2], [47, 16], [2, 4]]\n",
    "trial: 80\tsucc_fail: [[0, 2], [54, 19], [2, 4]]\n",
    "trial: 90\tsucc_fail: [[0, 2], [60, 23], [2, 4]]\n",
    "trial: 100\tsucc_fail: [[0, 2], [66, 26], [2, 5]]\n",
    "\"\"\""
   ]
  },
  {
   "cell_type": "code",
   "execution_count": 26,
   "metadata": {},
   "outputs": [
    {
     "name": "stdout",
     "output_type": "stream",
     "text": [
      "Collecting opencv-python\n",
      "  Downloading opencv_python-4.8.0.74-cp37-abi3-macosx_11_0_arm64.whl (33.1 MB)\n",
      "     |████████████████████████████████| 33.1 MB 8.3 MB/s            \n",
      "\u001b[?25hRequirement already satisfied: numpy>=1.19.3 in /Library/Frameworks/Python.framework/Versions/3.10/lib/python3.10/site-packages (from opencv-python) (1.23.0)\n",
      "Installing collected packages: opencv-python\n",
      "Successfully installed opencv-python-4.8.0.74\n",
      "\u001b[33mWARNING: You are using pip version 21.3.1; however, version 23.2 is available.\n",
      "You should consider upgrading via the '/Library/Frameworks/Python.framework/Versions/3.10/bin/python3.10 -m pip install --upgrade pip' command.\u001b[0m\n",
      "Note: you may need to restart the kernel to use updated packages.\n"
     ]
    }
   ],
   "source": [
    "pip install opencv-python\n"
   ]
  },
  {
   "cell_type": "code",
   "execution_count": 41,
   "metadata": {},
   "outputs": [],
   "source": [
    "import numpy as np\n",
    "import io\n",
    "import cv2\n",
    "from scipy.stats import beta\n",
    "import matplotlib.pyplot as plt\n",
    "# define a function which returns an image as numpy array from figure\n",
    "def get_img_from_fig(fig, dpi=120):\n",
    "    buf = io.BytesIO()\n",
    "    fig.savefig(buf, format=\"png\", dpi=dpi)\n",
    "    buf.seek(0)\n",
    "    img_arr = np.frombuffer(buf.getvalue(), dtype=np.uint8)\n",
    "    buf.close()\n",
    "    img = cv2.imdecode(img_arr, 1)\n",
    "    img = cv2.cvtColor(img, cv2.COLOR_BGR2RGB)\n",
    "    return img\n",
    "\n",
    "\n",
    "\n",
    "actual_prob = [0.1, 0.7, 0.5]\n",
    "\n",
    "succ_fail = [[0,0], [0,0], [0,0]]\n",
    "\n",
    "gif_ims = []\n",
    "\n",
    "for trials in range(200):\n",
    "\n",
    "    # plot\n",
    "    x = np.linspace(0, 1.0, 100)\n",
    "    y = [beta.pdf(x, s+1, f+1) for s, f in succ_fail]\n",
    "    fig, ax = plt.subplots(figsize=(7,5))\n",
    "    ax.plot(x, y[0], \"b-\", x, y[1], \"r-\", x, y[2], \"g-\")\n",
    "    ax.set(xlabel='payout probabilities', ylabel='PDF', title='Thompson Sampling')\n",
    "    gif_ims.append(get_img_from_fig(fig))\n",
    "    plt.close()\n",
    "    # plt.plot(x, y[0], \"b-\", x, y[1], \"r-\", x, y[2], \"g-\")\n",
    "    # plt.savefig(f'temp/{_:09}.png')\n",
    "    # plt.close()\n",
    "    # fig.canvas.draw()       # draw the canvas, cache the renderer\n",
    "    # image = np.frombuffer(fig.canvas.tostring_rgb(), dtype='uint8')\n",
    "    # image  = image.reshape(fig.canvas.get_width_height()[::-1] + (3,))\n",
    "\n",
    "    \n",
    "    \n",
    "\n",
    "    # Sample a data point (thompson sampling) from all arms' Beta distrib\n",
    "    samples = [np.random.beta(s+1, f+1) for s, f in succ_fail]\n",
    "    \n",
    "    # Pick the arm with highest sampled estimate\n",
    "    best_arm = np.argmax(samples)\n",
    "    \n",
    "    # Play with best arm\n",
    "    # since each arm is modelled as bernoulli variable, to sample from bernoulli distribution is same as \n",
    "    # sampling a uniform distrib variable & comparing with p (payout), if its less than p, then Success else Failure\n",
    "    if np.random.uniform() < actual_prob[best_arm]:  \n",
    "        # if we win with this arm\n",
    "        succ_fail[best_arm][0] += 1 \n",
    "    else:\n",
    "        # if we lose with this arm\n",
    "        succ_fail[best_arm][1] += 1\n"
   ]
  },
  {
   "cell_type": "code",
   "execution_count": 42,
   "metadata": {},
   "outputs": [],
   "source": [
    "try:\n",
    "    import imageio\n",
    "except:\n",
    "    !pip install imageio\n",
    "    import imageio\n",
    "kwargs_write = {'duration':0.001, 'quantizer':'nq'}\n",
    "imageio.mimsave('./final.gif', gif_ims) #, kwargs=kwargs_write)"
   ]
  },
  {
   "cell_type": "code",
   "execution_count": 53,
   "metadata": {},
   "outputs": [
    {
     "name": "stdout",
     "output_type": "stream",
     "text": [
      "Collecting imageio\n",
      "  Downloading imageio-2.31.1-py3-none-any.whl (313 kB)\n",
      "     |████████████████████████████████| 313 kB 8.2 MB/s            \n",
      "\u001b[?25hRequirement already satisfied: numpy in /Library/Frameworks/Python.framework/Versions/3.10/lib/python3.10/site-packages (from imageio) (1.23.0)\n",
      "Requirement already satisfied: pillow>=8.3.2 in /Library/Frameworks/Python.framework/Versions/3.10/lib/python3.10/site-packages (from imageio) (9.2.0)\n",
      "Installing collected packages: imageio\n",
      "Successfully installed imageio-2.31.1\n",
      "\u001b[33mWARNING: You are using pip version 21.3.1; however, version 23.2 is available.\n",
      "You should consider upgrading via the '/Library/Frameworks/Python.framework/Versions/3.10/bin/python3.10 -m pip install --upgrade pip' command.\u001b[0m\n"
     ]
    }
   ],
   "source": []
  },
  {
   "cell_type": "code",
   "execution_count": 9,
   "metadata": {},
   "outputs": [],
   "source": []
  },
  {
   "cell_type": "code",
   "execution_count": 25,
   "metadata": {},
   "outputs": [
    {
     "name": "stderr",
     "output_type": "stream",
     "text": [
      "/var/folders/pb/lgfbhs0s4mx5qxcnkx5pm7mh0000gn/T/ipykernel_31898/1211080134.py:6: DeprecationWarning: Starting with ImageIO v3 the behavior of this function will switch to that of iio.v3.imread. To keep the current behavior (and make this warning disappear) use `import imageio.v2 as imageio` or call `imageio.v2.imread` directly.\n",
      "  images.append(imageio.imread(filename))\n"
     ]
    }
   ],
   "source": [
    "import imageio\n",
    "images = []\n",
    "import glob\n",
    "files = glob.glob(r\"temp/*.png\")\n",
    "for filename in sorted(files):\n",
    "    images.append(imageio.imread(filename))\n",
    "imageio.mimsave('temp.gif', images)\n",
    "\n",
    "# not used"
   ]
  },
  {
   "cell_type": "code",
   "execution_count": 50,
   "metadata": {},
   "outputs": [],
   "source": []
  },
  {
   "cell_type": "code",
   "execution_count": null,
   "metadata": {},
   "outputs": [],
   "source": []
  },
  {
   "cell_type": "code",
   "execution_count": null,
   "metadata": {},
   "outputs": [],
   "source": []
  }
 ],
 "metadata": {
  "kernelspec": {
   "display_name": "Python 3",
   "language": "python",
   "name": "python3"
  },
  "language_info": {
   "codemirror_mode": {
    "name": "ipython",
    "version": 3
   },
   "file_extension": ".py",
   "mimetype": "text/x-python",
   "name": "python",
   "nbconvert_exporter": "python",
   "pygments_lexer": "ipython3",
   "version": "3.10.5"
  },
  "orig_nbformat": 4
 },
 "nbformat": 4,
 "nbformat_minor": 2
}
